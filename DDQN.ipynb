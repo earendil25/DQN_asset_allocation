{
 "cells": [
  {
   "cell_type": "code",
   "execution_count": 136,
   "metadata": {},
   "outputs": [],
   "source": [
    "import numpy as np\n",
    "import random\n",
    "import os\n",
    "import datetime as dt\n",
    "import pandas as pd\n",
    "\n",
    "from collections import deque, OrderedDict, namedtuple\n",
    "import matplotlib.pyplot as plt\n",
    "\n",
    "import torch\n",
    "import torch.nn as nn\n",
    "import torch.nn.functional as F\n",
    "import torch.optim as optim\n",
    "\n",
    "from BackTestPackage import UniverseData, BackTestModule"
   ]
  },
  {
   "cell_type": "code",
   "execution_count": 48,
   "metadata": {},
   "outputs": [],
   "source": [
    "start_date = '1990-01-01'\n",
    "end_date = dt.date.today().strftime('%Y-%m-%d')\n",
    "\n",
    "\n",
    "yfinance_list = ['^GSPC']\n",
    "\n",
    "\n",
    "\n",
    "testUniverse = UniverseData(sdate = start_date, edate = end_date)\n",
    "testUniverse.update_yfinance(yfinance_list)\n",
    "testUniverse.data_df['cash'] = [1 for item in list(testUniverse.data_df.index)]"
   ]
  },
  {
   "cell_type": "code",
   "execution_count": 49,
   "metadata": {},
   "outputs": [
    {
     "data": {
      "text/html": [
       "<div>\n",
       "<style scoped>\n",
       "    .dataframe tbody tr th:only-of-type {\n",
       "        vertical-align: middle;\n",
       "    }\n",
       "\n",
       "    .dataframe tbody tr th {\n",
       "        vertical-align: top;\n",
       "    }\n",
       "\n",
       "    .dataframe thead th {\n",
       "        text-align: right;\n",
       "    }\n",
       "</style>\n",
       "<table border=\"1\" class=\"dataframe\">\n",
       "  <thead>\n",
       "    <tr style=\"text-align: right;\">\n",
       "      <th></th>\n",
       "      <th>^GSPC</th>\n",
       "      <th>cash</th>\n",
       "    </tr>\n",
       "    <tr>\n",
       "      <th>Date</th>\n",
       "      <th></th>\n",
       "      <th></th>\n",
       "    </tr>\n",
       "  </thead>\n",
       "  <tbody>\n",
       "    <tr>\n",
       "      <th>1990-01-02</th>\n",
       "      <td>NaN</td>\n",
       "      <td>NaN</td>\n",
       "    </tr>\n",
       "    <tr>\n",
       "      <th>1990-01-03</th>\n",
       "      <td>-0.002589</td>\n",
       "      <td>0.0</td>\n",
       "    </tr>\n",
       "    <tr>\n",
       "      <th>1990-01-04</th>\n",
       "      <td>-0.008650</td>\n",
       "      <td>0.0</td>\n",
       "    </tr>\n",
       "    <tr>\n",
       "      <th>1990-01-05</th>\n",
       "      <td>-0.009804</td>\n",
       "      <td>0.0</td>\n",
       "    </tr>\n",
       "    <tr>\n",
       "      <th>1990-01-08</th>\n",
       "      <td>0.004504</td>\n",
       "      <td>0.0</td>\n",
       "    </tr>\n",
       "    <tr>\n",
       "      <th>...</th>\n",
       "      <td>...</td>\n",
       "      <td>...</td>\n",
       "    </tr>\n",
       "    <tr>\n",
       "      <th>2021-05-10</th>\n",
       "      <td>-0.010490</td>\n",
       "      <td>0.0</td>\n",
       "    </tr>\n",
       "    <tr>\n",
       "      <th>2021-05-11</th>\n",
       "      <td>-0.008712</td>\n",
       "      <td>0.0</td>\n",
       "    </tr>\n",
       "    <tr>\n",
       "      <th>2021-05-12</th>\n",
       "      <td>-0.021683</td>\n",
       "      <td>0.0</td>\n",
       "    </tr>\n",
       "    <tr>\n",
       "      <th>2021-05-13</th>\n",
       "      <td>0.012100</td>\n",
       "      <td>0.0</td>\n",
       "    </tr>\n",
       "    <tr>\n",
       "      <th>2021-05-14</th>\n",
       "      <td>0.014808</td>\n",
       "      <td>0.0</td>\n",
       "    </tr>\n",
       "  </tbody>\n",
       "</table>\n",
       "<p>7904 rows × 2 columns</p>\n",
       "</div>"
      ],
      "text/plain": [
       "               ^GSPC  cash\n",
       "Date                      \n",
       "1990-01-02       NaN   NaN\n",
       "1990-01-03 -0.002589   0.0\n",
       "1990-01-04 -0.008650   0.0\n",
       "1990-01-05 -0.009804   0.0\n",
       "1990-01-08  0.004504   0.0\n",
       "...              ...   ...\n",
       "2021-05-10 -0.010490   0.0\n",
       "2021-05-11 -0.008712   0.0\n",
       "2021-05-12 -0.021683   0.0\n",
       "2021-05-13  0.012100   0.0\n",
       "2021-05-14  0.014808   0.0\n",
       "\n",
       "[7904 rows x 2 columns]"
      ]
     },
     "execution_count": 49,
     "metadata": {},
     "output_type": "execute_result"
    }
   ],
   "source": [
    "testUniverse.data_df.apply(np.log).diff()"
   ]
  },
  {
   "cell_type": "code",
   "execution_count": 398,
   "metadata": {},
   "outputs": [],
   "source": [
    "WINDOW = 120\n",
    "SUB_WINDOW = 20\n",
    "\n",
    "class Market():\n",
    "    def __init__(self, data_df):\n",
    "        self.data_df = data_df\n",
    "        self.return_df = data_df.apply(np.log).diff()\n",
    "        \n",
    "        self.date_list = list(data_df.index)\n",
    "        self.date = self.date_list[WINDOW+1]\n",
    "        \n",
    "        self.actions = [0, 1, 2]\n",
    "        self.wgt = [0.5]\n",
    "    \n",
    "    def next_date(self):\n",
    "        date_idx = self.date_list.index(self.date)\n",
    "        self.date = self.date_list[date_idx+1]\n",
    "        \n",
    "    def observe(self):\n",
    "        date_idx = self.date_list.index(self.date)\n",
    "        return list(100*self.return_df.iloc[date_idx-WINDOW:date_idx].values.reshape(WINDOW))\n",
    "    \n",
    "    def reset(self):\n",
    "        self.date = self.date_list[WINDOW+1]\n",
    "        self.wgt = [0.5]\n",
    "        self.update_state()\n",
    "        \n",
    "        return self.state\n",
    "        \n",
    "    def update_state(self):\n",
    "        obs = self.observe()\n",
    "        mean = np.mean(obs)\n",
    "        stdev = np.std(obs)\n",
    "        sub_mean = np.mean(obs[-SUB_WINDOW:])\n",
    "        sub_stdev = np.std(obs[-SUB_WINDOW:])\n",
    "        self.state = list(self.wgt + [mean, stdev] + [sub_mean, sub_stdev] )\n",
    "        self.state = np.array(self.state)\n",
    "    \n",
    "    def get_log_return(self):\n",
    "        stock_return = np.exp(self.return_df.loc[self.date].values[0])\n",
    "        \n",
    "        total_return = (self.wgt[0]*stock_return + (1-self.wgt[0]))\n",
    "        \n",
    "        if total_return < 0 : total_return = 1\n",
    "        \n",
    "        return np.log(total_return)\n",
    "    \n",
    "    def step(self, action):\n",
    "        \n",
    "        is_done = (self.date == self.date_list[-1])\n",
    "        \n",
    "        state = self.state\n",
    "        reward = self.get_log_return()\n",
    "        \n",
    "        stock_return = np.exp(self.return_df.loc[self.date].values[0])\n",
    "        stock_asset = self.wgt[0] * stock_return\n",
    "        cash_asset = 1-self.wgt[0]\n",
    "        \n",
    "        wgt_before = stock_asset / (stock_asset + cash_asset)\n",
    "        \n",
    "        if action == 0:\n",
    "            wgt_now = wgt_before\n",
    "        elif action == 1:\n",
    "            wgt_now = np.min([1, wgt_before + 0.05])\n",
    "        elif action == 2:\n",
    "            wgt_now = np.max([0, wgt_before - 0.05])\n",
    "        \n",
    "        self.wgt = [wgt_now]\n",
    "        \n",
    "        #reward -= 0.001*np.abs(wgt_before-wgt_now)\n",
    "        \n",
    "        if is_done == False:\n",
    "            self.next_date()\n",
    "            next_state = self.update_state()\n",
    "            \n",
    "        self.state = np.array(self.state)\n",
    "        \n",
    "        return {'next_state':self.state, 'reward':reward, 'is_done':is_done}\n",
    "            \n",
    "        \n",
    "        "
   ]
  },
  {
   "cell_type": "code",
   "execution_count": 399,
   "metadata": {},
   "outputs": [
    {
     "name": "stdout",
     "output_type": "stream",
     "text": [
      "[ 0.5        -0.00992854  0.82188695 -0.04174645  0.88121403]\n",
      "[ 0.5477958  -0.0151185   0.82540154 -0.03211245  0.8708646 ]\n"
     ]
    }
   ],
   "source": [
    "testenv = Market(testUniverse.data_df[['^GSPC']])\n",
    "testenv.reset()\n",
    "print(testenv.state)\n",
    "testenv.step(1)\n",
    "print(testenv.state)"
   ]
  },
  {
   "cell_type": "code",
   "execution_count": 400,
   "metadata": {},
   "outputs": [],
   "source": [
    "class Agent():\n",
    "    def __init__(self, state_size, action_size, seed):\n",
    "        self.buffer_size = 100000\n",
    "        self.batch_size = 1024\n",
    "        self.gamma = 1.\n",
    "        self.tau = 0.01\n",
    "        self.lr = 10**(-4.5)\n",
    "        \n",
    "        self.state_size = state_size\n",
    "        self.action_size = action_size\n",
    "        self.seed = seed\n",
    "        \n",
    "        self.qnetwork_local = QNetwork(state_size, action_size, seed)\n",
    "        self.qnetwork_target = QNetwork(state_size, action_size, seed)\n",
    "        self.qnetwork_target.eval()\n",
    "        \n",
    "        self.optimizer = optim.Adam(self.qnetwork_local.parameters(), lr = self.lr)\n",
    "        \n",
    "        self.memory = ReplayBuffer(action_size, self.buffer_size, self.batch_size, seed)\n",
    "        \n",
    "        self.t_step = 0\n",
    "        \n",
    "    def step(self, state, action, reward, next_state, done):\n",
    "        self.memory.add(state, action, reward, next_state, done)\n",
    "        \n",
    "        self.t_step += 1\n",
    "        \n",
    "        if self.t_step%4 == 0:\n",
    "            if len(self.memory) > self.batch_size:\n",
    "                experiences = self.memory.sample()\n",
    "                self.learn(experiences)\n",
    "                \n",
    "    def act(self, state, eps):\n",
    "        if random.random() > eps:\n",
    "            state = torch.from_numpy(state).float().unsqueeze(0)\n",
    "            self.qnetwork_local.eval()\n",
    "            with torch.no_grad():\n",
    "                action_values = self.qnetwork_local(state)\n",
    "            self.qnetwork_local.train()\n",
    "            \n",
    "            action = np.argmax(action_values.cpu().data.numpy())\n",
    "            \n",
    "        else:\n",
    "            action = random.choice(np.arange(self.action_size))\n",
    "            \n",
    "        return action\n",
    "    \n",
    "    def learn(self, experiences):\n",
    "        states, actions, rewards, next_states, dones = experiences\n",
    "        \n",
    "        with torch.no_grad():\n",
    "            next_action_rewards_local = self.qnetwork_local(next_states)\n",
    "            greedy_action_local = next_action_rewards_local.max(dim = 1, keepdim = True)[1]\n",
    "            \n",
    "            next_action_rewards_target = self.qnetwork_target(next_states)\n",
    "            target_rewards = next_action_rewards_target.gather(1, greedy_action_local)\n",
    "            \n",
    "            target_rewards = rewards + (self.gamma * target_rewards * (1 - dones))\n",
    "            \n",
    "        expected_action_rewards = self.qnetwork_local(states) \n",
    "        expected_rewards = expected_action_rewards.gather(1, actions) \n",
    "        \n",
    "        loss = F.mse_loss(expected_rewards, target_rewards)\n",
    "        \n",
    "        self.optimizer.zero_grad()\n",
    "        loss.backward()\n",
    "        self.optimizer.step()\n",
    "        \n",
    "        for target_param, local_param in zip(\n",
    "            self.qnetwork_target.parameters(), self.qnetwork_local.parameters()):\n",
    "            target_param.data.copy_(self.tau*local_param.data + (1.0-self.tau)*target_param.data)\n",
    "            \n",
    "class QNetwork(nn.Module):\n",
    "    def __init__(self, state_size, action_size, seed):\n",
    "        super(QNetwork, self).__init__()\n",
    "        self.seed = torch.manual_seed(seed)\n",
    "        \n",
    "        self.fc1 = nn.Linear(state_size, 256)\n",
    "        self.fc2 = nn.Linear(256, 128)\n",
    "        self.fc3 = nn.Linear(128, action_size)\n",
    "        \n",
    "    def forward(self, x):\n",
    "        x = self.fc1(x)\n",
    "        x = F.relu(x)\n",
    "        x = self.fc2(x)\n",
    "        x = F.relu(x)\n",
    "        x = self.fc3(x)\n",
    "        \n",
    "        return x\n",
    "        \n",
    "\n",
    "class ReplayBuffer():\n",
    "    def __init__(self, action_size, buffer_size, batch_size, seed):\n",
    "        self.action_size = action_size\n",
    "        self.memory = deque(maxlen = buffer_size)\n",
    "        self.batch_size = batch_size\n",
    "        self.experience = namedtuple(\"Experience\",\n",
    "            field_names=['state', 'action', 'reward', 'next_state', 'done'])\n",
    "        self.seed = random.seed(seed)\n",
    "        \n",
    "    def add(self, state, action, reward, next_state, done):\n",
    "        new_exp = self.experience(state, action, reward, next_state, done)\n",
    "        self.memory.append(new_exp)\n",
    "        \n",
    "    def sample(self):\n",
    "        experiences = random.sample(self.memory, k = self.batch_size)\n",
    "        \n",
    "        states = torch.from_numpy(np.vstack([e.state for e in experiences if e is not None])).float()\n",
    "        actions = torch.from_numpy(np.vstack([e.action for e in experiences if e is not None])).long()\n",
    "        rewards = torch.from_numpy(np.vstack([e.reward for e in experiences if e is not None])).float()\n",
    "        next_states = torch.from_numpy(np.vstack([e.next_state for e in experiences if e is not None])).float()\n",
    "        dones = torch.from_numpy(np.vstack([e.done for e in experiences if e is not None]).astype(np.uint8)).float()\n",
    "        \n",
    "        return (states, actions, rewards, next_states, dones)\n",
    "        \n",
    "    def __len__(self):\n",
    "        return len(self.memory)"
   ]
  },
  {
   "cell_type": "code",
   "execution_count": 401,
   "metadata": {},
   "outputs": [],
   "source": [
    "def training(max_epi, max_t, eps_max, eps_min, eps_decay):\n",
    "    score_list = []\n",
    "    score_mean_list = []\n",
    "    score_window = deque(maxlen = 5)\n",
    "    eps = eps_max\n",
    "    \n",
    "    for epi in range(max_epi):\n",
    "        state = env.reset()\n",
    "        score = 0\n",
    "        \n",
    "        for t in range(max_t):\n",
    "            action = agent.act(state, eps).astype(int)\n",
    "            env_info = env.step(action)\n",
    "            \n",
    "            next_state = env_info['next_state']\n",
    "            reward = env_info['reward']\n",
    "            done = env_info['is_done']\n",
    "            \n",
    "            agent.step(state, action, reward, next_state, done)\n",
    "            \n",
    "            state = next_state\n",
    "            score += reward\n",
    "            \n",
    "            if done : break\n",
    "                \n",
    "        score_list.append(score)\n",
    "        score_window.append(score)\n",
    "        score_mean_list.append(np.mean(score_window))\n",
    "        \n",
    "        eps = max(eps_min, eps * eps_decay)\n",
    "        \n",
    "        if epi % 1 == 0:\n",
    "            print(epi, score_mean_list[-1], eps)\n",
    "        \n",
    "        #if len(score_mean_list) > 10:\n",
    "        #    if score_mean_list[-1] < score_mean_list[-2] and score_mean_list[-2] < score_mean_list[-3]:\n",
    "        #        break\n",
    "            \n",
    "    return score_list, score_mean_list"
   ]
  },
  {
   "cell_type": "code",
   "execution_count": 402,
   "metadata": {
    "scrolled": false
   },
   "outputs": [
    {
     "name": "stdout",
     "output_type": "stream",
     "text": [
      "0 0.5196914307069161 0.45\n",
      "1 0.9942951549567853 0.405\n",
      "2 1.2625003999996232 0.36450000000000005\n",
      "3 1.3743757731867952 0.32805000000000006\n",
      "4 1.4787225434484703 0.2952450000000001\n",
      "5 1.7780014761871286 0.2657205000000001\n",
      "6 1.860909583206317 0.23914845000000007\n",
      "7 1.951875137512691 0.21523360500000008\n",
      "8 2.0134193625321744 0.19371024450000007\n",
      "9 2.047269704038519 0.17433922005000008\n",
      "10 2.0572219294943634 0.15690529804500009\n",
      "11 2.158089155361245 0.14121476824050008\n",
      "12 2.1270756671493922 0.12709329141645007\n",
      "13 2.14672567265862 0.11438396227480506\n",
      "14 2.1822583099733155 0.10294556604732455\n",
      "15 2.2051269140769527 0.0926510094425921\n",
      "16 2.2597985517679495 0.08338590849833288\n",
      "17 2.2977108115625593 0.0750473176484996\n",
      "18 2.379372093731031 0.06754258588364964\n",
      "19 2.4000274808137356 0.06078832729528468\n",
      "20 2.426353347183139 0.05470949456575622\n",
      "21 2.3374574321178856 0.0492385451091806\n",
      "22 2.368442921805841 0.04431469059826254\n",
      "23 2.3719371423731337 0.039883221538436285\n",
      "24 2.3908123372162153 0.03589489938459266\n",
      "25 2.3629262793148804 0.032305409446133394\n",
      "26 2.4470403253399278 0.029074868501520055\n",
      "27 2.4909347431046007 0.02616738165136805\n",
      "28 2.464455626964503 0.023550643486231246\n",
      "29 2.5094827196820106 0.021195579137608122\n",
      "30 2.566465346190829 0.01907602122384731\n",
      "31 2.4952802512813417 0.01716841910146258\n",
      "32 2.3780916593352246 0.015451577191316321\n",
      "33 2.240456971784007 0.01390641947218469\n",
      "34 2.213921108673425 0.012515777524966222\n",
      "35 2.1746284074502373 0.0112641997724696\n",
      "36 2.189845887632392 0.010137779795222639\n",
      "37 2.2467097614478417 0.01\n",
      "38 2.4044259970180573 0.01\n",
      "39 2.399196567130855 0.01\n",
      "40 2.449537397308509 0.01\n",
      "41 2.459432673573427 0.01\n",
      "42 2.50267485059366 0.01\n",
      "43 2.521007026023521 0.01\n",
      "44 2.5487221652451266 0.01\n",
      "45 2.591097229442169 0.01\n",
      "46 2.6613296964397066 0.01\n",
      "47 2.691797685448529 0.01\n",
      "48 2.6959925976878587 0.01\n",
      "49 2.731546172726671 0.01\n"
     ]
    }
   ],
   "source": [
    "\n",
    "env = Market(testUniverse.data_df[['^GSPC']])\n",
    "env.reset()\n",
    "\n",
    "state_size = len(env.state)\n",
    "action_size = len(env.actions)\n",
    "\n",
    "\n",
    "agent = Agent(state_size=state_size, action_size=action_size, seed=0)\n",
    "scores, mean = training(max_epi=50, max_t=10000, eps_max=0.5, eps_min=0.01, eps_decay=0.9)\n"
   ]
  },
  {
   "cell_type": "code",
   "execution_count": 413,
   "metadata": {},
   "outputs": [
    {
     "data": {
      "text/plain": [
       "<matplotlib.legend.Legend at 0x2f10a3b4eb0>"
      ]
     },
     "execution_count": 413,
     "metadata": {},
     "output_type": "execute_result"
    },
    {
     "data": {
      "image/png": "[encoded data removed]",
      "text/plain": [
       "<Figure size 432x288 with 1 Axes>"
      ]
     },
     "metadata": {
      "needs_background": "light"
     },
     "output_type": "display_data"
    }
   ],
   "source": [
    "plt.plot(scores)\n",
    "plt.plot(mean)\n",
    "plt.legend(['score','SMA_5_episodes'])"
   ]
  },
  {
   "cell_type": "code",
   "execution_count": 404,
   "metadata": {},
   "outputs": [],
   "source": [
    "env.reset()\n",
    "wgt_list = []\n",
    "action_list = []\n",
    "while True:\n",
    "    action = agent.act(env.state,eps=0)\n",
    "    action_list.append(action)\n",
    "    env_info = env.step(action)\n",
    "    wgt_list += env.wgt\n",
    "    if env_info['is_done'] : break"
   ]
  },
  {
   "cell_type": "code",
   "execution_count": 405,
   "metadata": {},
   "outputs": [
    {
     "data": {
      "text/plain": [
       "([<matplotlib.patches.Wedge at 0x2f109120a90>,\n",
       "  <matplotlib.patches.Wedge at 0x2f1091202b0>,\n",
       "  <matplotlib.patches.Wedge at 0x2f1091201f0>],\n",
       " [Text(0.5877440215703084, 0.9298155543484746, 'no transaction'),\n",
       "  Text(-0.8344752748531444, -0.7166945065080164, 'stock +5%'),\n",
       "  Text(1.0516832533779505, -0.3224319068646431, 'stock -5%')])"
      ]
     },
     "execution_count": 405,
     "metadata": {},
     "output_type": "execute_result"
    },
    {
     "data": {
      "image/png": "[encoded data removed]",
      "text/plain": [
       "<Figure size 432x288 with 1 Axes>"
      ]
     },
     "metadata": {},
     "output_type": "display_data"
    }
   ],
   "source": [
    "action_dic = {x:action_list.count(x) for x in action_list}\n",
    "plt.pie([action_dic[x] for x in range(3)] ,labels =['no transaction','stock +5%','stock -5%']  )"
   ]
  },
  {
   "cell_type": "code",
   "execution_count": 406,
   "metadata": {},
   "outputs": [
    {
     "data": {
      "text/html": [
       "<div>\n",
       "<style scoped>\n",
       "    .dataframe tbody tr th:only-of-type {\n",
       "        vertical-align: middle;\n",
       "    }\n",
       "\n",
       "    .dataframe tbody tr th {\n",
       "        vertical-align: top;\n",
       "    }\n",
       "\n",
       "    .dataframe thead th {\n",
       "        text-align: right;\n",
       "    }\n",
       "</style>\n",
       "<table border=\"1\" class=\"dataframe\">\n",
       "  <thead>\n",
       "    <tr style=\"text-align: right;\">\n",
       "      <th></th>\n",
       "      <th>^GSPC</th>\n",
       "      <th>cash</th>\n",
       "    </tr>\n",
       "  </thead>\n",
       "  <tbody>\n",
       "    <tr>\n",
       "      <th>1990-06-25</th>\n",
       "      <td>0.497796</td>\n",
       "      <td>0.502204</td>\n",
       "    </tr>\n",
       "    <tr>\n",
       "      <th>1990-06-26</th>\n",
       "      <td>0.497618</td>\n",
       "      <td>0.502382</td>\n",
       "    </tr>\n",
       "    <tr>\n",
       "      <th>1990-06-27</th>\n",
       "      <td>0.549796</td>\n",
       "      <td>0.450204</td>\n",
       "    </tr>\n",
       "    <tr>\n",
       "      <th>1990-06-28</th>\n",
       "      <td>0.551525</td>\n",
       "      <td>0.448475</td>\n",
       "    </tr>\n",
       "    <tr>\n",
       "      <th>1990-06-29</th>\n",
       "      <td>0.551794</td>\n",
       "      <td>0.448206</td>\n",
       "    </tr>\n",
       "    <tr>\n",
       "      <th>...</th>\n",
       "      <td>...</td>\n",
       "      <td>...</td>\n",
       "    </tr>\n",
       "    <tr>\n",
       "      <th>2021-05-10</th>\n",
       "      <td>0.900296</td>\n",
       "      <td>0.099704</td>\n",
       "    </tr>\n",
       "    <tr>\n",
       "      <th>2021-05-11</th>\n",
       "      <td>0.949512</td>\n",
       "      <td>0.050488</td>\n",
       "    </tr>\n",
       "    <tr>\n",
       "      <th>2021-05-12</th>\n",
       "      <td>0.998462</td>\n",
       "      <td>0.001538</td>\n",
       "    </tr>\n",
       "    <tr>\n",
       "      <th>2021-05-13</th>\n",
       "      <td>0.948480</td>\n",
       "      <td>0.051520</td>\n",
       "    </tr>\n",
       "    <tr>\n",
       "      <th>2021-05-14</th>\n",
       "      <td>0.999199</td>\n",
       "      <td>0.000801</td>\n",
       "    </tr>\n",
       "  </tbody>\n",
       "</table>\n",
       "<p>7783 rows × 2 columns</p>\n",
       "</div>"
      ],
      "text/plain": [
       "               ^GSPC      cash\n",
       "1990-06-25  0.497796  0.502204\n",
       "1990-06-26  0.497618  0.502382\n",
       "1990-06-27  0.549796  0.450204\n",
       "1990-06-28  0.551525  0.448475\n",
       "1990-06-29  0.551794  0.448206\n",
       "...              ...       ...\n",
       "2021-05-10  0.900296  0.099704\n",
       "2021-05-11  0.949512  0.050488\n",
       "2021-05-12  0.998462  0.001538\n",
       "2021-05-13  0.948480  0.051520\n",
       "2021-05-14  0.999199  0.000801\n",
       "\n",
       "[7783 rows x 2 columns]"
      ]
     },
     "execution_count": 406,
     "metadata": {},
     "output_type": "execute_result"
    }
   ],
   "source": [
    "target_df = pd.DataFrame({'^GSPC':wgt_list, 'cash':[1-x for x in wgt_list]},index = env.date_list[WINDOW+1:])\n",
    "target_df"
   ]
  },
  {
   "cell_type": "code",
   "execution_count": 407,
   "metadata": {},
   "outputs": [
    {
     "data": {
      "text/plain": [
       "<matplotlib.legend.Legend at 0x2f107f1ca30>"
      ]
     },
     "execution_count": 407,
     "metadata": {},
     "output_type": "execute_result"
    },
    {
     "data": {
      "image/png": "[encoded data removed]",
      "text/plain": [
       "<Figure size 432x288 with 1 Axes>"
      ]
     },
     "metadata": {
      "needs_background": "light"
     },
     "output_type": "display_data"
    }
   ],
   "source": [
    "universe_list = ['^GSPC','cash']\n",
    "def cum_wgt_df(idx):\n",
    "    return sum([target_df[universe_list[x]] for x in range(idx+1)])\n",
    "\n",
    "for idx in range(len(universe_list)):\n",
    "    df = cum_wgt_df(len(universe_list) - idx - 1)\n",
    "    plt.plot(df)\n",
    "    plt.fill_between(df.index, df.values)\n",
    "\n",
    "plt.legend(universe_list[::-1], bbox_to_anchor=(1.0, 1.0))"
   ]
  },
  {
   "cell_type": "code",
   "execution_count": 408,
   "metadata": {},
   "outputs": [
    {
     "name": "stdout",
     "output_type": "stream",
     "text": [
      "1990-06-25 00:00:00 2021-05-14 00:00:00\n"
     ]
    }
   ],
   "source": [
    "testBackTest = BackTestModule(testUniverse)\n",
    "\n",
    "asset_df, wgt_df = testBackTest.run_backtest(target_df=target_df, sdate='1990-01-01', edate='2023-01-01', rebal_period=1, \n",
    "                                            sub_portfolio = 1)\n"
   ]
  },
  {
   "cell_type": "code",
   "execution_count": 409,
   "metadata": {},
   "outputs": [
    {
     "data": {
      "text/plain": [
       "[<matplotlib.lines.Line2D at 0x2f1093331c0>]"
      ]
     },
     "execution_count": 409,
     "metadata": {},
     "output_type": "execute_result"
    },
    {
     "data": {
      "image/png": "[encoded data removed]",
      "text/plain": [
       "<Figure size 432x288 with 1 Axes>"
      ]
     },
     "metadata": {
      "needs_background": "light"
     },
     "output_type": "display_data"
    }
   ],
   "source": [
    "plt.plot(asset_df['asset']/testUniverse.data_df['^GSPC']*testUniverse.data_df['^GSPC'][0])\n",
    "plt.plot(asset_df['asset']/asset_df['asset'])\n"
   ]
  },
  {
   "cell_type": "code",
   "execution_count": 410,
   "metadata": {},
   "outputs": [
    {
     "data": {
      "image/png": "[encoded data removed]",
      "text/plain": [
       "<Figure size 432x288 with 1 Axes>"
      ]
     },
     "metadata": {
      "needs_background": "light"
     },
     "output_type": "display_data"
    }
   ],
   "source": [
    "plt.plot(asset_df)\n",
    "plt.plot(testUniverse.data_df[['^GSPC']]/testUniverse.data_df[['^GSPC']].iloc[0])\n",
    "plt.legend(['RL','GSPC'])\n",
    "plt.yscale('log')"
   ]
  },
  {
   "cell_type": "code",
   "execution_count": null,
   "metadata": {},
   "outputs": [],
   "source": []
  },
  {
   "cell_type": "code",
   "execution_count": null,
   "metadata": {},
   "outputs": [],
   "source": []
  },
  {
   "cell_type": "code",
   "execution_count": null,
   "metadata": {},
   "outputs": [],
   "source": []
  },
  {
   "cell_type": "code",
   "execution_count": null,
   "metadata": {},
   "outputs": [],
   "source": []
  },
  {
   "cell_type": "code",
   "execution_count": null,
   "metadata": {},
   "outputs": [],
   "source": []
  },
  {
   "cell_type": "code",
   "execution_count": null,
   "metadata": {},
   "outputs": [],
   "source": []
  },
  {
   "cell_type": "code",
   "execution_count": null,
   "metadata": {},
   "outputs": [],
   "source": []
  },
  {
   "cell_type": "code",
   "execution_count": null,
   "metadata": {},
   "outputs": [],
   "source": []
  }
 ],
 "metadata": {
  "kernelspec": {
   "display_name": "Python 3",
   "language": "python",
   "name": "python3"
  },
  "language_info": {
   "codemirror_mode": {
    "name": "ipython",
    "version": 3
   },
   "file_extension": ".py",
   "mimetype": "text/x-python",
   "name": "python",
   "nbconvert_exporter": "python",
   "pygments_lexer": "ipython3",
   "version": "3.8.5"
  }
 },
 "nbformat": 4,
 "nbformat_minor": 2
}
